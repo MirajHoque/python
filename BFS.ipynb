{
 "cells": [
  {
   "cell_type": "code",
   "execution_count": null,
   "metadata": {},
   "outputs": [],
   "source": [
    "class Vertex:\n",
    "    def _init_(self,name):\n",
    "        self.name=name\n",
    "        self.neighbors=list() #empty list\n",
    "        self.distance=-1\n",
    "        self.color='BLACK'\n",
    "    def addNeighbors(self,vertex):\n",
    "        if vertex not in self.neighbors:\n",
    "            self.neighbors.append(vertex)\n",
    "            self.neighbors.sort()"
   ]
  },
  {
   "cell_type": "code",
   "execution_count": 2,
   "metadata": {},
   "outputs": [],
   "source": [
    "class Graph:\n",
    "    vertices={}\n",
    "    def addVertex(self,ver): # takes vertex obj\n",
    "        if instance(vertex,ver) and vertex.name not in self.vertices:\n",
    "            self.vertices[vertex.name]=vertex\n",
    "            return true\n",
    "        else:\n",
    "            return false\n",
    "        \n",
    "      \n",
    "          \n",
    "            "
   ]
  },
  {
   "cell_type": "code",
   "execution_count": 3,
   "metadata": {},
   "outputs": [],
   "source": [
    "def addEdge(self,u,v):\n",
    "    if u in self.vertices and v in self.vertices:\n",
    "        for key,value in self.vertices.items():\n",
    "            if key==u:\n",
    "                value.addNeighbors(v)\n",
    "            if key==v:\n",
    "                value.addNeighbors(u)\n",
    "                return true\n",
    "            else:\n",
    "                return false"
   ]
  },
  {
   "cell_type": "code",
   "execution_count": 4,
   "metadata": {},
   "outputs": [],
   "source": [
    "def printGraph(self):\n",
    "    for key in sorted(list(self.vertices.keys())):\n",
    "        print(key+ str(self.vertices[key].neighbors)+ \" \"+ str(self.vertices[key].distance))"
   ]
  },
  {
   "cell_type": "code",
   "execution_count": 5,
   "metadata": {},
   "outputs": [],
   "source": [
    "def bfs(self,vert):\n",
    "    q=list()\n",
    "    vert.distance=-0\n",
    "    vert.color='red'\n",
    "    for v in vert.neighbors:\n",
    "        self.vertices[v].distance=vert.distance+1\n",
    "        q.append(v)\n",
    "    while len(q)>0:\n",
    "        u=q.pop(0)\n",
    "        nodeU=self.vertices[u]\n",
    "        nodeU.color='red'\n",
    "    for v in nodeU.neighbors:\n",
    "        nodeV=self.vertices[v]\n",
    "        if nodeV.color=='black':\n",
    "            q.append(v)\n",
    "            if nodeV.distance>nodeU.distance+1:\n",
    "                nodeV.distance=nodeU.distance+1"
   ]
  },
  {
   "cell_type": "code",
   "execution_count": 6,
   "metadata": {},
   "outputs": [
    {
     "ename": "TypeError",
     "evalue": "object() takes no parameters",
     "output_type": "error",
     "traceback": [
      "\u001b[1;31m---------------------------------------------------------------------------\u001b[0m",
      "\u001b[1;31mTypeError\u001b[0m                                 Traceback (most recent call last)",
      "\u001b[1;32m<ipython-input-6-7dc31a56827b>\u001b[0m in \u001b[0;36m<module>\u001b[1;34m()\u001b[0m\n\u001b[0;32m      1\u001b[0m \u001b[0mg\u001b[0m\u001b[1;33m=\u001b[0m\u001b[0mGraph\u001b[0m\u001b[1;33m(\u001b[0m\u001b[1;33m)\u001b[0m\u001b[1;33m\u001b[0m\u001b[0m\n\u001b[1;32m----> 2\u001b[1;33m \u001b[0ma\u001b[0m\u001b[1;33m=\u001b[0m\u001b[0mVertex\u001b[0m\u001b[1;33m(\u001b[0m\u001b[1;34m'A'\u001b[0m\u001b[1;33m)\u001b[0m\u001b[1;33m\u001b[0m\u001b[0m\n\u001b[0m\u001b[0;32m      3\u001b[0m \u001b[0mg\u001b[0m\u001b[1;33m.\u001b[0m\u001b[0maddVertex\u001b[0m\u001b[1;33m(\u001b[0m\u001b[0ma\u001b[0m\u001b[1;33m)\u001b[0m\u001b[1;33m\u001b[0m\u001b[0m\n\u001b[0;32m      4\u001b[0m \u001b[0mg\u001b[0m\u001b[1;33m.\u001b[0m\u001b[0maddVertex\u001b[0m\u001b[1;33m(\u001b[0m\u001b[0mvertex\u001b[0m\u001b[1;33m(\u001b[0m\u001b[1;34m'B'\u001b[0m\u001b[1;33m)\u001b[0m\u001b[1;33m)\u001b[0m\u001b[1;33m\u001b[0m\u001b[0m\n\u001b[0;32m      5\u001b[0m \u001b[1;32mfor\u001b[0m \u001b[0mi\u001b[0m \u001b[1;32min\u001b[0m \u001b[0mrange\u001b[0m\u001b[1;33m(\u001b[0m\u001b[0mord\u001b[0m\u001b[1;33m(\u001b[0m\u001b[1;34m'A'\u001b[0m\u001b[1;33m)\u001b[0m\u001b[1;33m,\u001b[0m\u001b[0mord\u001b[0m\u001b[1;33m(\u001b[0m\u001b[1;34m'K'\u001b[0m\u001b[1;33m)\u001b[0m\u001b[1;33m)\u001b[0m\u001b[1;33m:\u001b[0m\u001b[1;33m\u001b[0m\u001b[0m\n",
      "\u001b[1;31mTypeError\u001b[0m: object() takes no parameters"
     ]
    }
   ],
   "source": [
    "g=Graph()\n",
    "a=Vertex('A')\n",
    "g.addVertex(a)\n",
    "g.addVertex(vertex('B'))\n",
    "for i in range(ord('A'),ord('K')):\n",
    "    g.addVertex(Vertex(chr(i)))\n",
    "    edges=['AB','AE','BF','CG','DE''DH','EH','FG','FI','FJ','GJ','HI']\n",
    "    for edge in edges:\n",
    "        g.addEdge(edge[:1],edge[1:])\n",
    "        g.bfs(a)\n",
    "        g.printGraph()\n"
   ]
  },
  {
   "cell_type": "code",
   "execution_count": null,
   "metadata": {},
   "outputs": [],
   "source": []
  }
 ],
 "metadata": {
  "kernelspec": {
   "display_name": "Python 3",
   "language": "python",
   "name": "python3"
  },
  "language_info": {
   "codemirror_mode": {
    "name": "ipython",
    "version": 3
   },
   "file_extension": ".py",
   "mimetype": "text/x-python",
   "name": "python",
   "nbconvert_exporter": "python",
   "pygments_lexer": "ipython3",
   "version": "3.6.5"
  }
 },
 "nbformat": 4,
 "nbformat_minor": 2
}
