{
 "cells": [
  {
   "cell_type": "code",
   "execution_count": 1,
   "metadata": {},
   "outputs": [],
   "source": [
    "class Robot:\n",
    "    def __init__(self,name,color,weight):\n",
    "        self.name=name\n",
    "        self.color=color\n",
    "        self.weight=weight\n",
    "        \n",
    "    def introduceSelf(self):\n",
    "        print(\"My name is:\"+self.name)"
   ]
  },
  {
   "cell_type": "code",
   "execution_count": 2,
   "metadata": {},
   "outputs": [],
   "source": [
    "r1=Robot(\"Tom\",\"red\",30)\n",
    "r2=Robot(\"Jerry\",\"blue\",40)"
   ]
  },
  {
   "cell_type": "code",
   "execution_count": 3,
   "metadata": {},
   "outputs": [
    {
     "name": "stdout",
     "output_type": "stream",
     "text": [
      "My name is:Tom\n",
      "My name is:Jerry\n"
     ]
    }
   ],
   "source": [
    "r1.introduceSelf();\n",
    "r2.introduceSelf();"
   ]
  },
  {
   "cell_type": "code",
   "execution_count": 4,
   "metadata": {},
   "outputs": [],
   "source": [
    "class Person:\n",
    "    def __init__(self,n,p,i):\n",
    "        self.name=n;\n",
    "        self.personality=p;\n",
    "        self.isSitting=i;\n",
    "        \n",
    "   # def sitDown(self):\n",
    "      #  self.isSitting=True\n",
    "        \n",
    "  #  def stanfUp(self):\n",
    "       # self.isSitting=False\n",
    "        "
   ]
  },
  {
   "cell_type": "code",
   "execution_count": 5,
   "metadata": {},
   "outputs": [],
   "source": [
    "p1=Person(\"Zafrin\",\"aggresive\",False)\n",
    "p2=Person(\"Miraj\",\"aggresive\",True)"
   ]
  },
  {
   "cell_type": "code",
   "execution_count": 6,
   "metadata": {},
   "outputs": [],
   "source": [
    "p1.ownedRobot=r2\n",
    "p2.ownedRobot=r1"
   ]
  },
  {
   "cell_type": "code",
   "execution_count": 7,
   "metadata": {},
   "outputs": [
    {
     "name": "stdout",
     "output_type": "stream",
     "text": [
      "My name is:Jerry\n",
      "My name is:Tom\n"
     ]
    }
   ],
   "source": [
    "p1.ownedRobot.introduceSelf()\n",
    "p2.ownedRobot.introduceSelf()"
   ]
  },
  {
   "cell_type": "code",
   "execution_count": null,
   "metadata": {},
   "outputs": [],
   "source": []
  },
  {
   "cell_type": "code",
   "execution_count": null,
   "metadata": {},
   "outputs": [],
   "source": []
  }
 ],
 "metadata": {
  "kernelspec": {
   "display_name": "Python 3",
   "language": "python",
   "name": "python3"
  },
  "language_info": {
   "codemirror_mode": {
    "name": "ipython",
    "version": 3
   },
   "file_extension": ".py",
   "mimetype": "text/x-python",
   "name": "python",
   "nbconvert_exporter": "python",
   "pygments_lexer": "ipython3",
   "version": "3.7.1"
  }
 },
 "nbformat": 4,
 "nbformat_minor": 2
}
