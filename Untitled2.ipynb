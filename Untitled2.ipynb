{
 "cells": [
  {
   "cell_type": "code",
   "execution_count": 2,
   "metadata": {},
   "outputs": [
    {
     "ename": "IndentationError",
     "evalue": "expected an indented block (<ipython-input-2-31bc9dcef6b2>, line 14)",
     "output_type": "error",
     "traceback": [
      "\u001b[1;36m  File \u001b[1;32m\"<ipython-input-2-31bc9dcef6b2>\"\u001b[1;36m, line \u001b[1;32m14\u001b[0m\n\u001b[1;33m    vertices = {}\u001b[0m\n\u001b[1;37m           ^\u001b[0m\n\u001b[1;31mIndentationError\u001b[0m\u001b[1;31m:\u001b[0m expected an indented block\n"
     ]
    }
   ],
   "source": [
    "\tdef __init__(self, n):\n",
    "\t\tself.name = n\n",
    "\t\tself.neighbors = list()\n",
    "\t\t\n",
    "\t\tself.distance = 9999\n",
    "\t\tself.color = 'black'\n",
    "\t\n",
    "\tdef add_neighbor(self, v):\n",
    "\t\tif v not in self.neighbors:\n",
    "\t\t\tself.neighbors.append(v)\n",
    "\t\t\tself.neighbors.sort()\n",
    "\n",
    "class Graph:\n",
    "\tvertices = {}\n",
    "\t\n",
    "\tdef add_vertex(self, vertex):\n",
    "\t\tif isinstance(vertex, Vertex) and vertex.name not in self.vertices:\n",
    "\t\t\tself.vertices[vertex.name] = vertex\n",
    "\t\t\treturn True\n",
    "\t\telse:\n",
    "\t\t\treturn False\n",
    "\t\n",
    "\tdef add_edge(self, u, v):\n",
    "\t\tif u in self.vertices and v in self.vertices:\n",
    "\t\t\tfor key, value in self.vertices.items():\n",
    "\t\t\t\tif key == u:\n",
    "\t\t\t\t\tvalue.add_neighbor(v)\n",
    "\t\t\t\tif key == v:\n",
    "\t\t\t\t\tvalue.add_neighbor(u)\n",
    "\t\t\treturn True\n",
    "\t\telse:\n",
    "\t\t\treturn False\n",
    "\t\t\t\n",
    "\tdef print_graph(self):\n",
    "\t\tfor key in sorted(list(self.vertices.keys())):\n",
    "\t\t\tprint(key + str(self.vertices[key].neighbors) + \"  \" + str(self.vertices[key].distance))\n",
    "\t\t\n",
    "\tdef bfs(self, vert):\n",
    "\t\tq = list()\n",
    "\t\tvert.distance = 0\n",
    "\t\tvert.color = 'red'\n",
    "\t\tfor v in vert.neighbors:\n",
    "\t\t\tself.vertices[v].distance = vert.distance + 1\n",
    "\t\t\tq.append(v)\n",
    "\t\t\n",
    "\t\twhile len(q) > 0:\n",
    "\t\t\tu = q.pop(0)\n",
    "\t\t\tnode_u = self.vertices[u]\n",
    "\t\t\tnode_u.color = 'red'\n",
    "\t\t\t\n",
    "\t\t\tfor v in node_u.neighbors:\n",
    "\t\t\t\tnode_v = self.vertices[v]\n",
    "\t\t\t\tif node_v.color == 'black':\n",
    "\t\t\t\t\tq.append(v)\n",
    "\t\t\t\t\tif node_v.distance > node_u.distance + 1:\n",
    "\t\t\t\t\t\tnode_v.distance = node_u.distance + 1\n",
    "\t\t\t\t\t\n",
    "g = Graph()\n",
    "a = Vertex('A')\n",
    "g.add_vertex(a)\n",
    "g.add_vertex(Vertex('B'))\n",
    "for i in range(ord('A'), ord('K')):\n",
    "\tg.add_vertex(Vertex(chr(i)))\n",
    "\n",
    "edges = ['AB', 'AE', 'BF', 'CG', 'DE', 'DH', 'EH', 'FG', 'FI', 'FJ', 'GJ', 'HI']\n",
    "for edge in edges:\n",
    "\tg.add_edge(edge[:1], edge[1:])\n",
    "\t\n",
    "g.bfs(a)\n",
    "g.print_graph()"
   ]
  },
  {
   "cell_type": "code",
   "execution_count": null,
   "metadata": {},
   "outputs": [],
   "source": []
  }
 ],
 "metadata": {
  "kernelspec": {
   "display_name": "Python 3",
   "language": "python",
   "name": "python3"
  },
  "language_info": {
   "codemirror_mode": {
    "name": "ipython",
    "version": 3
   },
   "file_extension": ".py",
   "mimetype": "text/x-python",
   "name": "python",
   "nbconvert_exporter": "python",
   "pygments_lexer": "ipython3",
   "version": "3.6.5"
  }
 },
 "nbformat": 4,
 "nbformat_minor": 2
}
