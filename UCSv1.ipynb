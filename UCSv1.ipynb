{
 "cells": [
  {
   "cell_type": "code",
   "execution_count": 1,
   "metadata": {},
   "outputs": [],
   "source": [
    "from queue import Queue, PriorityQueue"
   ]
  },
  {
   "cell_type": "code",
   "execution_count": 2,
   "metadata": {},
   "outputs": [],
   "source": [
    "romania_map ={\n",
    "    \"Arad\": {\"Zerind\": 75, \"Timisoara\": 118, \"Sibiu\": 140},\n",
    "    \"Zerind\": {\"Arad\": 75, \"Oradea\": 71},\n",
    "    \"Oradea\": {\"Zerind\": 71, \"Sibiu\": 151},\n",
    "    \"Timisoara\": {\"Arad\": 118, \"Lugoj\": 111},\n",
    "    \"Lugoj\": {\"Timisoara\": 111, \"Mehadia\":70},\n",
    "    \"Mehadia\": {\"Lugoj\": 70, \"Dobreta\": 75},\n",
    "    \"Dobreta\": {\"Mehadia\":75, \"Craiova\":120},\n",
    "    \"Craiova\": {\"Dobreta\": 120, \"RimnicuVilcea\": 146, \"Pitesi\": 138},\n",
    "    \"RimnicuVilcea\": {\"Craiova\": 146, \"Pitesi\": 97, \"Sibiu\":80},\n",
    "    \"Sibiu\": {\"Arad\": 140, \"Oradea\":151, \"RimnicuVilcea\": 80, \"Fagaras\": 99},\n",
    "    \"Fagaras\": {\"Sibiu\": 99, \"Bucharest\":211},\n",
    "    \"Pitesi\": {\"Bucharest\": 101, \"RimnicuVilcea\": 97, \"Craiova\": 138},\n",
    "    \"Bucharest\": {\"Pitesi\": 101, \"Fagaras\": 211, \"Giurgiu\": 90, \"Urziceni\": 85},\n",
    "    \"Giurgiu\": {\"Bucharest\": 90},\n",
    "    \"Urziceni\": {\"Bucharest\": 85, \"Hirsova\": 98, \"Vaslui\": 142},\n",
    "    \"Hirsova\": {\"Urziceni\": 98, \"Eforie\": 86},\n",
    "    \"Eforie\": {\"Hirsova\": 86},\n",
    "    \"Vaslui\": {\"Urziceni\": 142, \"Iasi\": 92},\n",
    "    \"Iasi\": {\"Vaslui\": 92, \"Neamt\": 87},\n",
    "    \"Neamt\": {\"Iasi\": 87}\n",
    "}"
   ]
  },
  {
   "cell_type": "code",
   "execution_count": 3,
   "metadata": {},
   "outputs": [
    {
     "ename": "NameError",
     "evalue": "name 'Q' is not defined",
     "output_type": "error",
     "traceback": [
      "\u001b[1;31m---------------------------------------------------------------------------\u001b[0m",
      "\u001b[1;31mNameError\u001b[0m                                 Traceback (most recent call last)",
      "\u001b[1;32m<ipython-input-3-494b6a8aee4a>\u001b[0m in \u001b[0;36m<module>\u001b[1;34m()\u001b[0m\n\u001b[0;32m     19\u001b[0m             \u001b[0mqueue\u001b[0m\u001b[1;33m.\u001b[0m\u001b[0mput\u001b[0m\u001b[1;33m(\u001b[0m\u001b[1;33m(\u001b[0m\u001b[0mcost\u001b[0m \u001b[1;33m+\u001b[0m \u001b[0mgraph\u001b[0m\u001b[1;33m[\u001b[0m\u001b[0mcurrent\u001b[0m\u001b[1;33m]\u001b[0m\u001b[1;33m[\u001b[0m\u001b[0mneighbor\u001b[0m\u001b[1;33m]\u001b[0m\u001b[1;33m,\u001b[0m \u001b[0mtemp\u001b[0m\u001b[1;33m)\u001b[0m\u001b[1;33m)\u001b[0m\u001b[1;33m\u001b[0m\u001b[0m\n\u001b[0;32m     20\u001b[0m \u001b[1;33m\u001b[0m\u001b[0m\n\u001b[1;32m---> 21\u001b[1;33m \u001b[0mUCS\u001b[0m\u001b[1;33m(\u001b[0m\u001b[0mromania_map\u001b[0m\u001b[1;33m,\u001b[0m \u001b[1;34m'Arad'\u001b[0m\u001b[1;33m,\u001b[0m \u001b[1;34m'Bucharest'\u001b[0m\u001b[1;33m)\u001b[0m\u001b[1;33m\u001b[0m\u001b[0m\n\u001b[0m\u001b[0;32m     22\u001b[0m \u001b[1;33m\u001b[0m\u001b[0m\n",
      "\u001b[1;32m<ipython-input-3-494b6a8aee4a>\u001b[0m in \u001b[0;36mUCS\u001b[1;34m(graph, start, end)\u001b[0m\n\u001b[0;32m      2\u001b[0m \u001b[1;33m\u001b[0m\u001b[0m\n\u001b[0;32m      3\u001b[0m \u001b[1;33m\u001b[0m\u001b[0m\n\u001b[1;32m----> 4\u001b[1;33m     \u001b[0mqueue\u001b[0m \u001b[1;33m=\u001b[0m \u001b[0mQ\u001b[0m\u001b[1;33m.\u001b[0m\u001b[0mPriorityQueue\u001b[0m\u001b[1;33m(\u001b[0m\u001b[1;33m)\u001b[0m\u001b[1;33m\u001b[0m\u001b[0m\n\u001b[0m\u001b[0;32m      5\u001b[0m     \u001b[0mqueue\u001b[0m\u001b[1;33m.\u001b[0m\u001b[0mput\u001b[0m\u001b[1;33m(\u001b[0m\u001b[1;33m(\u001b[0m\u001b[1;36m0\u001b[0m\u001b[1;33m,\u001b[0m \u001b[1;33m[\u001b[0m\u001b[0mstart\u001b[0m\u001b[1;33m]\u001b[0m\u001b[1;33m)\u001b[0m\u001b[1;33m)\u001b[0m\u001b[1;33m\u001b[0m\u001b[0m\n\u001b[0;32m      6\u001b[0m \u001b[1;33m\u001b[0m\u001b[0m\n",
      "\u001b[1;31mNameError\u001b[0m: name 'Q' is not defined"
     ]
    }
   ],
   "source": [
    "def UCS(graph, start, end):\n",
    "    \n",
    "    \n",
    "    queue = Q.PriorityQueue()\n",
    "    queue.put((0, [start]))\n",
    "    \n",
    "    while not queue.empty():\n",
    "        node = queue.get()\n",
    "        current = node[1][len(node[1]) - 1]\n",
    "        \n",
    "        if end in node[1]:\n",
    "            print(\"Paths:\"+str(node[1])+\"Cost: \"+ str(node[0]))\n",
    "            break\n",
    "        \n",
    "        cost = node[0]\n",
    "        for neighbor in graph[current]:\n",
    "            temp = node[1][:]\n",
    "            temp.append(neighbor)\n",
    "            queue.put((cost + graph[current][neighbor], temp))\n",
    "\n",
    "UCS(romania_map, 'Arad', 'Bucharest')\n",
    "    \n"
   ]
  },
  {
   "cell_type": "code",
   "execution_count": null,
   "metadata": {},
   "outputs": [],
   "source": []
  },
  {
   "cell_type": "code",
   "execution_count": null,
   "metadata": {},
   "outputs": [],
   "source": []
  }
 ],
 "metadata": {
  "kernelspec": {
   "display_name": "Python 3",
   "language": "python",
   "name": "python3"
  },
  "language_info": {
   "codemirror_mode": {
    "name": "ipython",
    "version": 3
   },
   "file_extension": ".py",
   "mimetype": "text/x-python",
   "name": "python",
   "nbconvert_exporter": "python",
   "pygments_lexer": "ipython3",
   "version": "3.6.5"
  }
 },
 "nbformat": 4,
 "nbformat_minor": 2
}
