{
 "cells": [
  {
   "cell_type": "code",
   "execution_count": 3,
   "metadata": {},
   "outputs": [],
   "source": [
    "#d=dict()\n",
    "d = {}\n",
    "d[\"GEORGE\"]=24\n",
    "d[\"TOM\"]=32\n",
    "d[\"JENNY\"]=16"
   ]
  },
  {
   "cell_type": "code",
   "execution_count": 4,
   "metadata": {},
   "outputs": [
    {
     "name": "stdout",
     "output_type": "stream",
     "text": [
      "24\n"
     ]
    }
   ],
   "source": [
    "print(d[\"GEORGE\"])"
   ]
  },
  {
   "cell_type": "code",
   "execution_count": 5,
   "metadata": {},
   "outputs": [
    {
     "name": "stdout",
     "output_type": "stream",
     "text": [
      "100\n"
     ]
    }
   ],
   "source": [
    "d[10]=100\n",
    "print(d[10])"
   ]
  },
  {
   "cell_type": "code",
   "execution_count": 6,
   "metadata": {},
   "outputs": [
    {
     "name": "stdout",
     "output_type": "stream",
     "text": [
      "key\n",
      "GEORGE\n",
      "value\n",
      "24\n",
      " \n",
      "key\n",
      "TOM\n",
      "value\n",
      "32\n",
      " \n",
      "key\n",
      "JENNY\n",
      "value\n",
      "16\n",
      " \n",
      "key\n",
      "10\n",
      "value\n",
      "100\n",
      " \n"
     ]
    }
   ],
   "source": [
    "for key,value in d.items():\n",
    "    print(\"key\")\n",
    "    print(key)\n",
    "    print(\"value\")\n",
    "    print(value)\n",
    "    print(\" \")"
   ]
  },
  {
   "cell_type": "code",
   "execution_count": null,
   "metadata": {},
   "outputs": [],
   "source": []
  }
 ],
 "metadata": {
  "kernelspec": {
   "display_name": "Python 3",
   "language": "python",
   "name": "python3"
  },
  "language_info": {
   "codemirror_mode": {
    "name": "ipython",
    "version": 3
   },
   "file_extension": ".py",
   "mimetype": "text/x-python",
   "name": "python",
   "nbconvert_exporter": "python",
   "pygments_lexer": "ipython3",
   "version": "3.6.5"
  }
 },
 "nbformat": 4,
 "nbformat_minor": 2
}
