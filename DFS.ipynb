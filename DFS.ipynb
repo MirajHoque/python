{
 "cells": [
  {
   "cell_type": "code",
   "execution_count": 8,
   "metadata": {},
   "outputs": [],
   "source": [
    "from queue import Queue"
   ]
  },
  {
   "cell_type": "code",
   "execution_count": 9,
   "metadata": {},
   "outputs": [],
   "source": [
    "romania_map ={\n",
    "    \"Arad\": {\"Zerind\": 75, \"Timisoara\": 118, \"Sibiu\": 140},\n",
    "    \"Zerind\": {\"Arad\": 75, \"Oradea\": 71},\n",
    "    \"Oradea\": {\"Zerind\": 71, \"Sibiu\": 151},\n",
    "    \"Timisoara\": {\"Arad\": 118, \"Lugoj\": 111},\n",
    "    \"Lugoj\": {\"Timisoara\": 111, \"Mehadia\":70},\n",
    "    \"Mehadia\": {\"Lugoj\": 70, \"Dobreta\": 75},\n",
    "    \"Dobreta\": {\"Mehadia\":75, \"Craiova\":120},\n",
    "    \"Craiova\": {\"Dobreta\": 120, \"RimnicuVilcea\": 146, \"Pitesi\": 138},\n",
    "    \"RimnicuVilcea\": {\"Craiova\": 146, \"Pitesi\": 97, \"Sibiu\":80},\n",
    "    \"Sibiu\": {\"Arad\": 140, \"Oradea\":151, \"RimnicuVilcea\": 80, \"Fagaras\": 99},\n",
    "    \"Fagaras\": {\"Sibiu\": 99, \"Bucharest\":211},\n",
    "    \"Pitesi\": {\"Bucharest\": 101, \"RimnicuVilcea\": 97, \"Craiova\": 138},\n",
    "    \"Bucharest\": {\"Pitesi\": 101, \"Fagaras\": 211, \"Giurgiu\": 90, \"Urziceni\": 85},\n",
    "    \"Giurgiu\": {\"Bucharest\": 90},\n",
    "    \"Urziceni\": {\"Bucharest\": 85, \"Hirsova\": 98, \"Vaslui\": 142},\n",
    "    \"Hirsova\": {\"Urziceni\": 98, \"Eforie\": 86},\n",
    "    \"Eforie\": {\"Hirsova\": 86},\n",
    "    \"Vaslui\": {\"Urziceni\": 142, \"Iasi\": 92},\n",
    "    \"Iasi\": {\"Vaslui\": 92, \"Neamt\": 87},\n",
    "    \"Neamt\": {\"Iasi\": 87}\n",
    "}"
   ]
  },
  {
   "cell_type": "code",
   "execution_count": 10,
   "metadata": {},
   "outputs": [],
   "source": [
    "initial=\"Arad\"\n",
    "goal=\"Bucharest\""
   ]
  },
  {
   "cell_type": "code",
   "execution_count": 11,
   "metadata": {},
   "outputs": [],
   "source": [
    "def neighbours(node):\n",
    "    n=romania_map[node]\n",
    "    neighbours=list(n.keys())\n",
    "    return neighbors"
   ]
  },
  {
   "cell_type": "code",
   "execution_count": 12,
   "metadata": {},
   "outputs": [],
   "source": [
    "def goaLTest(node):\n",
    "    return node==goal"
   ]
  },
  {
   "cell_type": "code",
   "execution_count": 13,
   "metadata": {},
   "outputs": [],
   "source": [
    "def isEmpty(list):\n",
    "    if len(list)==0:\n",
    "        return True\n",
    "    else:\n",
    "        return False"
   ]
  },
  {
   "cell_type": "code",
   "execution_count": 14,
   "metadata": {},
   "outputs": [],
   "source": [
    "def DFS(romania_map):\n",
    "    node=initial\n",
    "    if goalTest(node):return node.state\n",
    "    \n",
    "    forntier=[]\n",
    "    forntier.append(node)\n",
    "    explored=[]\n",
    "    \n",
    "    while forntier:\n",
    "        if isEmpty(forntier):return \"no solution\"\n",
    "        node=forntier.pop(0)\n",
    "        explored.append(node)\n",
    "        print(explored)\n",
    "        \n",
    "        if goalTest(node):return node\n",
    "        else:\n",
    "            children=neighbours(node)\n",
    "            for elements in children:\n",
    "                if elements not in explored and elements not in forntier:\n",
    "                    forntier.append(elements)\n",
    "                    print(forntier)"
   ]
  },
  {
   "cell_type": "code",
   "execution_count": null,
   "metadata": {},
   "outputs": [],
   "source": []
  },
  {
   "cell_type": "code",
   "execution_count": null,
   "metadata": {},
   "outputs": [],
   "source": []
  }
 ],
 "metadata": {
  "kernelspec": {
   "display_name": "Python 3",
   "language": "python",
   "name": "python3"
  },
  "language_info": {
   "codemirror_mode": {
    "name": "ipython",
    "version": 3
   },
   "file_extension": ".py",
   "mimetype": "text/x-python",
   "name": "python",
   "nbconvert_exporter": "python",
   "pygments_lexer": "ipython3",
   "version": "3.6.5"
  }
 },
 "nbformat": 4,
 "nbformat_minor": 2
}
