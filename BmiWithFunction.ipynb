{
 "cells": [
  {
   "cell_type": "code",
   "execution_count": null,
   "metadata": {},
   "outputs": [],
   "source": [
    "name=\"Miraj\"\n",
    "height=1.77\n",
    "weight=61\n",
    "def BmiCalculations(n,h,w):\n",
    "    bmi=w/(h **2)\n",
    "    print(\"bmi of the person\")\n",
    "    print(bmi)\n",
    "    if bmi<25:\n",
    "        return n + \"not overweighted\"\n",
    "    else:\n",
    "         print(\"overweighted\")"
   ]
  },
  {
   "cell_type": "code",
   "execution_count": null,
   "metadata": {},
   "outputs": [],
   "source": [
    "result= BmiCalculations(name,height,weight)"
   ]
  }
 ],
 "metadata": {
  "kernelspec": {
   "display_name": "Python 3",
   "language": "python",
   "name": "python3"
  },
  "language_info": {
   "codemirror_mode": {
    "name": "ipython",
    "version": 3
   },
   "file_extension": ".py",
   "mimetype": "text/x-python",
   "name": "python",
   "nbconvert_exporter": "python",
   "pygments_lexer": "ipython3",
   "version": "3.6.5"
  }
 },
 "nbformat": 4,
 "nbformat_minor": 2
}
