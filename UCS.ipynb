{
 "cells": [
  {
   "cell_type": "code",
   "execution_count": 4,
   "metadata": {},
   "outputs": [
    {
     "name": "stdout",
     "output_type": "stream",
     "text": [
      "Paths:['Arad', 'Sibiu', 'RimnicuVilcea', 'Pitesi', 'Bucharest']Cost:418\n"
     ]
    }
   ],
   "source": [
    "\n",
    "import queue as Q\n",
    "\n",
    "romania_map ={\n",
    "    \"Arad\": {\"Zerind\": 75, \"Timisoara\": 118, \"Sibiu\": 140},\n",
    "    \"Zerind\": {\"Arad\": 75, \"Oradea\": 71},\n",
    "    \"Oradea\": {\"Zerind\": 71, \"Sibiu\": 151},\n",
    "    \"Timisoara\": {\"Arad\": 118, \"Lugoj\": 111},\n",
    "    \"Lugoj\": {\"Timisoara\": 111, \"Mehadia\":70},\n",
    "    \"Mehadia\": {\"Lugoj\": 70, \"Dobreta\": 75},\n",
    "    \"Dobreta\": {\"Mehadia\":75, \"Craiova\":120},\n",
    "    \"Craiova\": {\"Dobreta\": 120, \"RimnicuVilcea\": 146, \"Pitesi\": 138},\n",
    "    \"RimnicuVilcea\": {\"Craiova\": 146, \"Pitesi\": 97, \"Sibiu\":80},\n",
    "    \"Sibiu\": {\"Arad\": 140, \"Oradea\":151, \"RimnicuVilcea\": 80, \"Fagaras\": 99},\n",
    "    \"Fagaras\": {\"Sibiu\": 99, \"Bucharest\":211},\n",
    "    \"Pitesi\": {\"Bucharest\": 101, \"RimnicuVilcea\": 97, \"Craiova\": 138},\n",
    "    \"Bucharest\": {\"Pitesi\": 101, \"Fagaras\": 211, \"Giurgiu\": 90, \"Urziceni\": 85},\n",
    "    \"Giurgiu\": {\"Bucharest\": 90},\n",
    "    \"Urziceni\": {\"Bucharest\": 85, \"Hirsova\": 98, \"Vaslui\": 142},\n",
    "    \"Hirsova\": {\"Urziceni\": 98, \"Eforie\": 86},\n",
    "    \"Eforie\": {\"Hirsova\": 86},\n",
    "    \"Vaslui\": {\"Urziceni\": 142, \"Iasi\": 92},\n",
    "    \"Iasi\": {\"Vaslui\": 92, \"Neamt\": 87},\n",
    "    \"Neamt\": {\"Iasi\": 87}\n",
    "}\n",
    "def UCS(graph, start, end):\n",
    "    \n",
    "    \n",
    "    queue = Q.PriorityQueue()\n",
    "    queue.put((0, [start]))\n",
    "    \n",
    "    while not queue.empty():\n",
    "        node = queue.get()\n",
    "        current = node[1][len(node[1]) - 1]\n",
    "        \n",
    "        if end in node[1]:\n",
    "            print(\"Paths:\" +str(node[1])+\"Cost:\"+str(node[0]))\n",
    "            break\n",
    "        \n",
    "        cost = node[0]\n",
    "        for neighbor in graph[current]:\n",
    "            temp = node[1][:]\n",
    "            temp.append(neighbor)\n",
    "            queue.put((cost + graph[current][neighbor], temp))\n",
    "\n",
    "UCS(romania_map, 'Arad', 'Bucharest')\n",
    "    \n"
   ]
  },
  {
   "cell_type": "code",
   "execution_count": null,
   "metadata": {},
   "outputs": [],
   "source": []
  }
 ],
 "metadata": {
  "kernelspec": {
   "display_name": "Python 3",
   "language": "python",
   "name": "python3"
  },
  "language_info": {
   "codemirror_mode": {
    "name": "ipython",
    "version": 3
   },
   "file_extension": ".py",
   "mimetype": "text/x-python",
   "name": "python",
   "nbconvert_exporter": "python",
   "pygments_lexer": "ipython3",
   "version": "3.6.5"
  }
 },
 "nbformat": 4,
 "nbformat_minor": 2
}
