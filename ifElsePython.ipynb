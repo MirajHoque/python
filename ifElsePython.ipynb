{
 "cells": [
  {
   "cell_type": "code",
   "execution_count": 3,
   "metadata": {},
   "outputs": [
    {
     "name": "stdout",
     "output_type": "stream",
     "text": [
      "a is definitely less than b\n",
      "this is the if else pattarn in python\n"
     ]
    }
   ],
   "source": [
    "a=10;\n",
    "b=15\n",
    "if a<b:\n",
    "    print(\"a is definitely less than b\")\n",
    "else:\n",
    "    print(\"this is impossible\")\n",
    "print(\"this is the if else pattarn in python\")"
   ]
  },
  {
   "cell_type": "code",
   "execution_count": 4,
   "metadata": {},
   "outputs": [
    {
     "name": "stdout",
     "output_type": "stream",
     "text": [
      "x ix less than y\n",
      "if else elseif with python\n"
     ]
    }
   ],
   "source": [
    "x=5\n",
    "y=7\n",
    "if x>y:\n",
    "    print(\"opps! this is imposssible\")\n",
    "elif x==y:\n",
    "    print(\"this is absoulately not working\")\n",
    "else:\n",
    "    print(\"x ix less than y\")\n",
    "\n",
    "print(\"if else elseif with python\")\n"
   ]
  },
  {
   "cell_type": "code",
   "execution_count": null,
   "metadata": {},
   "outputs": [],
   "source": []
  }
 ],
 "metadata": {
  "kernelspec": {
   "display_name": "Python 3",
   "language": "python",
   "name": "python3"
  },
  "language_info": {
   "codemirror_mode": {
    "name": "ipython",
    "version": 3
   },
   "file_extension": ".py",
   "mimetype": "text/x-python",
   "name": "python",
   "nbconvert_exporter": "python",
   "pygments_lexer": "ipython3",
   "version": "3.6.5"
  }
 },
 "nbformat": 4,
 "nbformat_minor": 2
}
