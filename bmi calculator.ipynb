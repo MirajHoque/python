{
 "cells": [
  {
   "cell_type": "code",
   "execution_count": 10,
   "metadata": {},
   "outputs": [
    {
     "name": "stdout",
     "output_type": "stream",
     "text": [
      "body mass index of the Miraj\n",
      "19.4707778735357\n",
      "Miraj  is not overweighted\n"
     ]
    }
   ],
   "source": [
    "name=\"Miraj\"   #person name\n",
    "height=1.77   #height in meter\n",
    "weight=61    # weight in KG\n",
    "bmi=weight/(height*height)  #bmi calculation method\n",
    "print(\"body mass index of the\",name)\n",
    "print(bmi);\n",
    "if bmi<25:\n",
    "    #print(\"name\")\n",
    "    print(name,\" is not overweighted\")\n",
    "else:\n",
    "    print(name,\"overweighted\")\n"
   ]
  },
  {
   "cell_type": "code",
   "execution_count": null,
   "metadata": {},
   "outputs": [],
   "source": []
  }
 ],
 "metadata": {
  "kernelspec": {
   "display_name": "Python 3",
   "language": "python",
   "name": "python3"
  },
  "language_info": {
   "codemirror_mode": {
    "name": "ipython",
    "version": 3
   },
   "file_extension": ".py",
   "mimetype": "text/x-python",
   "name": "python",
   "nbconvert_exporter": "python",
   "pygments_lexer": "ipython3",
   "version": "3.6.5"
  }
 },
 "nbformat": 4,
 "nbformat_minor": 2
}
